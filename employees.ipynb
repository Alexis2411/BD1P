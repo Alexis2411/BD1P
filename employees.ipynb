{
  "nbformat": 4,
  "nbformat_minor": 0,
  "metadata": {
    "colab": {
      "name": "employees.ipynb",
      "provenance": [],
      "collapsed_sections": [],
      "authorship_tag": "ABX9TyM8yVzUNQNlmt1xmAoudnNg",
      "include_colab_link": true
    },
    "kernelspec": {
      "name": "python3",
      "display_name": "Python 3"
    },
    "language_info": {
      "name": "python"
    }
  },
  "cells": [
    {
      "cell_type": "markdown",
      "metadata": {
        "id": "view-in-github",
        "colab_type": "text"
      },
      "source": [
        "<a href=\"https://colab.research.google.com/github/Alexis2411/BD1P/blob/main/employees.ipynb\" target=\"_parent\"><img src=\"https://colab.research.google.com/assets/colab-badge.svg\" alt=\"Open In Colab\"/></a>"
      ]
    },
    {
      "cell_type": "code",
      "execution_count": null,
      "metadata": {
        "colab": {
          "base_uri": "https://localhost:8080/",
          "height": 1000
        },
        "id": "HMKW3wZ5bs89",
        "outputId": "82feed48-2745-41e9-f90e-d68ad16f64d6"
      },
      "outputs": [
        {
          "output_type": "stream",
          "name": "stdout",
          "text": [
            "Collecting streamlit\n",
            "  Downloading streamlit-1.7.0-py2.py3-none-any.whl (9.9 MB)\n",
            "\u001b[K     |████████████████████████████████| 9.9 MB 3.0 MB/s \n",
            "\u001b[?25hCollecting validators\n",
            "  Downloading validators-0.18.2-py3-none-any.whl (19 kB)\n",
            "Requirement already satisfied: tornado>=5.0 in /usr/local/lib/python3.7/dist-packages (from streamlit) (5.1.1)\n",
            "Collecting watchdog\n",
            "  Downloading watchdog-2.1.6-py3-none-manylinux2014_x86_64.whl (76 kB)\n",
            "\u001b[K     |████████████████████████████████| 76 kB 2.0 MB/s \n",
            "\u001b[?25hRequirement already satisfied: astor in /usr/local/lib/python3.7/dist-packages (from streamlit) (0.8.1)\n",
            "Collecting blinker\n",
            "  Downloading blinker-1.4.tar.gz (111 kB)\n",
            "\u001b[K     |████████████████████████████████| 111 kB 6.3 MB/s \n",
            "\u001b[?25hCollecting gitpython!=3.1.19\n",
            "  Downloading GitPython-3.1.27-py3-none-any.whl (181 kB)\n",
            "\u001b[K     |████████████████████████████████| 181 kB 42.8 MB/s \n",
            "\u001b[?25hRequirement already satisfied: pillow>=6.2.0 in /usr/local/lib/python3.7/dist-packages (from streamlit) (7.1.2)\n",
            "Requirement already satisfied: python-dateutil in /usr/local/lib/python3.7/dist-packages (from streamlit) (2.8.2)\n",
            "Requirement already satisfied: pandas>=0.21.0 in /usr/local/lib/python3.7/dist-packages (from streamlit) (1.3.5)\n",
            "Requirement already satisfied: packaging in /usr/local/lib/python3.7/dist-packages (from streamlit) (21.3)\n",
            "Collecting pydeck>=0.1.dev5\n",
            "  Downloading pydeck-0.7.1-py2.py3-none-any.whl (4.3 MB)\n",
            "\u001b[K     |████████████████████████████████| 4.3 MB 12.1 MB/s \n",
            "\u001b[?25hCollecting pympler>=0.9\n",
            "  Downloading Pympler-1.0.1-py3-none-any.whl (164 kB)\n",
            "\u001b[K     |████████████████████████████████| 164 kB 49.6 MB/s \n",
            "\u001b[?25hRequirement already satisfied: tzlocal in /usr/local/lib/python3.7/dist-packages (from streamlit) (1.5.1)\n",
            "Requirement already satisfied: pyarrow in /usr/local/lib/python3.7/dist-packages (from streamlit) (6.0.1)\n",
            "Requirement already satisfied: attrs in /usr/local/lib/python3.7/dist-packages (from streamlit) (21.4.0)\n",
            "Requirement already satisfied: requests in /usr/local/lib/python3.7/dist-packages (from streamlit) (2.23.0)\n",
            "Collecting toml\n",
            "  Downloading toml-0.10.2-py2.py3-none-any.whl (16 kB)\n",
            "Requirement already satisfied: importlib-metadata>=1.4 in /usr/local/lib/python3.7/dist-packages (from streamlit) (4.11.2)\n",
            "Requirement already satisfied: typing-extensions in /usr/local/lib/python3.7/dist-packages (from streamlit) (3.10.0.2)\n",
            "Collecting base58\n",
            "  Downloading base58-2.1.1-py3-none-any.whl (5.6 kB)\n",
            "Requirement already satisfied: click>=7.0 in /usr/local/lib/python3.7/dist-packages (from streamlit) (7.1.2)\n",
            "Requirement already satisfied: semver in /usr/local/lib/python3.7/dist-packages (from streamlit) (2.13.0)\n",
            "Requirement already satisfied: altair>=3.2.0 in /usr/local/lib/python3.7/dist-packages (from streamlit) (4.2.0)\n",
            "Requirement already satisfied: numpy in /usr/local/lib/python3.7/dist-packages (from streamlit) (1.21.5)\n",
            "Requirement already satisfied: protobuf!=3.11,>=3.6.0 in /usr/local/lib/python3.7/dist-packages (from streamlit) (3.17.3)\n",
            "Requirement already satisfied: cachetools>=4.0 in /usr/local/lib/python3.7/dist-packages (from streamlit) (4.2.4)\n",
            "Requirement already satisfied: toolz in /usr/local/lib/python3.7/dist-packages (from altair>=3.2.0->streamlit) (0.11.2)\n",
            "Requirement already satisfied: entrypoints in /usr/local/lib/python3.7/dist-packages (from altair>=3.2.0->streamlit) (0.4)\n",
            "Requirement already satisfied: jinja2 in /usr/local/lib/python3.7/dist-packages (from altair>=3.2.0->streamlit) (2.11.3)\n",
            "Requirement already satisfied: jsonschema>=3.0 in /usr/local/lib/python3.7/dist-packages (from altair>=3.2.0->streamlit) (4.3.3)\n",
            "Collecting gitdb<5,>=4.0.1\n",
            "  Downloading gitdb-4.0.9-py3-none-any.whl (63 kB)\n",
            "\u001b[K     |████████████████████████████████| 63 kB 1.1 MB/s \n",
            "\u001b[?25hCollecting smmap<6,>=3.0.1\n",
            "  Downloading smmap-5.0.0-py3-none-any.whl (24 kB)\n",
            "Requirement already satisfied: zipp>=0.5 in /usr/local/lib/python3.7/dist-packages (from importlib-metadata>=1.4->streamlit) (3.7.0)\n",
            "Requirement already satisfied: pyrsistent!=0.17.0,!=0.17.1,!=0.17.2,>=0.14.0 in /usr/local/lib/python3.7/dist-packages (from jsonschema>=3.0->altair>=3.2.0->streamlit) (0.18.1)\n",
            "Requirement already satisfied: importlib-resources>=1.4.0 in /usr/local/lib/python3.7/dist-packages (from jsonschema>=3.0->altair>=3.2.0->streamlit) (5.4.0)\n",
            "Requirement already satisfied: pytz>=2017.3 in /usr/local/lib/python3.7/dist-packages (from pandas>=0.21.0->streamlit) (2018.9)\n",
            "Requirement already satisfied: six>=1.9 in /usr/local/lib/python3.7/dist-packages (from protobuf!=3.11,>=3.6.0->streamlit) (1.15.0)\n",
            "Requirement already satisfied: traitlets>=4.3.2 in /usr/local/lib/python3.7/dist-packages (from pydeck>=0.1.dev5->streamlit) (5.1.1)\n",
            "Collecting ipykernel>=5.1.2\n",
            "  Downloading ipykernel-6.9.1-py3-none-any.whl (128 kB)\n",
            "\u001b[K     |████████████████████████████████| 128 kB 63.3 MB/s \n",
            "\u001b[?25hRequirement already satisfied: ipywidgets>=7.0.0 in /usr/local/lib/python3.7/dist-packages (from pydeck>=0.1.dev5->streamlit) (7.6.5)\n",
            "Collecting ipython>=7.23.1\n",
            "  Downloading ipython-7.32.0-py3-none-any.whl (793 kB)\n",
            "\u001b[K     |████████████████████████████████| 793 kB 58.0 MB/s \n",
            "\u001b[?25hRequirement already satisfied: matplotlib-inline<0.2.0,>=0.1.0 in /usr/local/lib/python3.7/dist-packages (from ipykernel>=5.1.2->pydeck>=0.1.dev5->streamlit) (0.1.3)\n",
            "Requirement already satisfied: jupyter-client<8.0 in /usr/local/lib/python3.7/dist-packages (from ipykernel>=5.1.2->pydeck>=0.1.dev5->streamlit) (5.3.5)\n",
            "Requirement already satisfied: debugpy<2.0,>=1.0.0 in /usr/local/lib/python3.7/dist-packages (from ipykernel>=5.1.2->pydeck>=0.1.dev5->streamlit) (1.0.0)\n",
            "Requirement already satisfied: nest-asyncio in /usr/local/lib/python3.7/dist-packages (from ipykernel>=5.1.2->pydeck>=0.1.dev5->streamlit) (1.5.4)\n",
            "Requirement already satisfied: jedi>=0.16 in /usr/local/lib/python3.7/dist-packages (from ipython>=7.23.1->ipykernel>=5.1.2->pydeck>=0.1.dev5->streamlit) (0.18.1)\n",
            "Requirement already satisfied: decorator in /usr/local/lib/python3.7/dist-packages (from ipython>=7.23.1->ipykernel>=5.1.2->pydeck>=0.1.dev5->streamlit) (4.4.2)\n",
            "Requirement already satisfied: pygments in /usr/local/lib/python3.7/dist-packages (from ipython>=7.23.1->ipykernel>=5.1.2->pydeck>=0.1.dev5->streamlit) (2.6.1)\n",
            "Requirement already satisfied: backcall in /usr/local/lib/python3.7/dist-packages (from ipython>=7.23.1->ipykernel>=5.1.2->pydeck>=0.1.dev5->streamlit) (0.2.0)\n",
            "Requirement already satisfied: setuptools>=18.5 in /usr/local/lib/python3.7/dist-packages (from ipython>=7.23.1->ipykernel>=5.1.2->pydeck>=0.1.dev5->streamlit) (57.4.0)\n",
            "Requirement already satisfied: pickleshare in /usr/local/lib/python3.7/dist-packages (from ipython>=7.23.1->ipykernel>=5.1.2->pydeck>=0.1.dev5->streamlit) (0.7.5)\n",
            "Collecting prompt-toolkit!=3.0.0,!=3.0.1,<3.1.0,>=2.0.0\n",
            "  Downloading prompt_toolkit-3.0.28-py3-none-any.whl (380 kB)\n",
            "\u001b[K     |████████████████████████████████| 380 kB 27.9 MB/s \n",
            "\u001b[?25hRequirement already satisfied: pexpect>4.3 in /usr/local/lib/python3.7/dist-packages (from ipython>=7.23.1->ipykernel>=5.1.2->pydeck>=0.1.dev5->streamlit) (4.8.0)\n",
            "Requirement already satisfied: nbformat>=4.2.0 in /usr/local/lib/python3.7/dist-packages (from ipywidgets>=7.0.0->pydeck>=0.1.dev5->streamlit) (5.1.3)\n",
            "Requirement already satisfied: jupyterlab-widgets>=1.0.0 in /usr/local/lib/python3.7/dist-packages (from ipywidgets>=7.0.0->pydeck>=0.1.dev5->streamlit) (1.0.2)\n",
            "Requirement already satisfied: widgetsnbextension~=3.5.0 in /usr/local/lib/python3.7/dist-packages (from ipywidgets>=7.0.0->pydeck>=0.1.dev5->streamlit) (3.5.2)\n",
            "Requirement already satisfied: ipython-genutils~=0.2.0 in /usr/local/lib/python3.7/dist-packages (from ipywidgets>=7.0.0->pydeck>=0.1.dev5->streamlit) (0.2.0)\n",
            "Requirement already satisfied: parso<0.9.0,>=0.8.0 in /usr/local/lib/python3.7/dist-packages (from jedi>=0.16->ipython>=7.23.1->ipykernel>=5.1.2->pydeck>=0.1.dev5->streamlit) (0.8.3)\n",
            "Requirement already satisfied: MarkupSafe>=0.23 in /usr/local/lib/python3.7/dist-packages (from jinja2->altair>=3.2.0->streamlit) (2.0.1)\n",
            "Requirement already satisfied: pyzmq>=13 in /usr/local/lib/python3.7/dist-packages (from jupyter-client<8.0->ipykernel>=5.1.2->pydeck>=0.1.dev5->streamlit) (22.3.0)\n",
            "Requirement already satisfied: jupyter-core>=4.6.0 in /usr/local/lib/python3.7/dist-packages (from jupyter-client<8.0->ipykernel>=5.1.2->pydeck>=0.1.dev5->streamlit) (4.9.2)\n",
            "Requirement already satisfied: ptyprocess>=0.5 in /usr/local/lib/python3.7/dist-packages (from pexpect>4.3->ipython>=7.23.1->ipykernel>=5.1.2->pydeck>=0.1.dev5->streamlit) (0.7.0)\n",
            "Requirement already satisfied: wcwidth in /usr/local/lib/python3.7/dist-packages (from prompt-toolkit!=3.0.0,!=3.0.1,<3.1.0,>=2.0.0->ipython>=7.23.1->ipykernel>=5.1.2->pydeck>=0.1.dev5->streamlit) (0.2.5)\n",
            "Requirement already satisfied: notebook>=4.4.1 in /usr/local/lib/python3.7/dist-packages (from widgetsnbextension~=3.5.0->ipywidgets>=7.0.0->pydeck>=0.1.dev5->streamlit) (5.3.1)\n",
            "Requirement already satisfied: terminado>=0.8.1 in /usr/local/lib/python3.7/dist-packages (from notebook>=4.4.1->widgetsnbextension~=3.5.0->ipywidgets>=7.0.0->pydeck>=0.1.dev5->streamlit) (0.13.1)\n",
            "Requirement already satisfied: Send2Trash in /usr/local/lib/python3.7/dist-packages (from notebook>=4.4.1->widgetsnbextension~=3.5.0->ipywidgets>=7.0.0->pydeck>=0.1.dev5->streamlit) (1.8.0)\n",
            "Requirement already satisfied: nbconvert in /usr/local/lib/python3.7/dist-packages (from notebook>=4.4.1->widgetsnbextension~=3.5.0->ipywidgets>=7.0.0->pydeck>=0.1.dev5->streamlit) (5.6.1)\n",
            "Requirement already satisfied: defusedxml in /usr/local/lib/python3.7/dist-packages (from nbconvert->notebook>=4.4.1->widgetsnbextension~=3.5.0->ipywidgets>=7.0.0->pydeck>=0.1.dev5->streamlit) (0.7.1)\n",
            "Requirement already satisfied: mistune<2,>=0.8.1 in /usr/local/lib/python3.7/dist-packages (from nbconvert->notebook>=4.4.1->widgetsnbextension~=3.5.0->ipywidgets>=7.0.0->pydeck>=0.1.dev5->streamlit) (0.8.4)\n",
            "Requirement already satisfied: pandocfilters>=1.4.1 in /usr/local/lib/python3.7/dist-packages (from nbconvert->notebook>=4.4.1->widgetsnbextension~=3.5.0->ipywidgets>=7.0.0->pydeck>=0.1.dev5->streamlit) (1.5.0)\n",
            "Requirement already satisfied: bleach in /usr/local/lib/python3.7/dist-packages (from nbconvert->notebook>=4.4.1->widgetsnbextension~=3.5.0->ipywidgets>=7.0.0->pydeck>=0.1.dev5->streamlit) (4.1.0)\n",
            "Requirement already satisfied: testpath in /usr/local/lib/python3.7/dist-packages (from nbconvert->notebook>=4.4.1->widgetsnbextension~=3.5.0->ipywidgets>=7.0.0->pydeck>=0.1.dev5->streamlit) (0.6.0)\n",
            "Requirement already satisfied: webencodings in /usr/local/lib/python3.7/dist-packages (from bleach->nbconvert->notebook>=4.4.1->widgetsnbextension~=3.5.0->ipywidgets>=7.0.0->pydeck>=0.1.dev5->streamlit) (0.5.1)\n",
            "Requirement already satisfied: pyparsing!=3.0.5,>=2.0.2 in /usr/local/lib/python3.7/dist-packages (from packaging->streamlit) (3.0.7)\n",
            "Requirement already satisfied: chardet<4,>=3.0.2 in /usr/local/lib/python3.7/dist-packages (from requests->streamlit) (3.0.4)\n",
            "Requirement already satisfied: idna<3,>=2.5 in /usr/local/lib/python3.7/dist-packages (from requests->streamlit) (2.10)\n",
            "Requirement already satisfied: urllib3!=1.25.0,!=1.25.1,<1.26,>=1.21.1 in /usr/local/lib/python3.7/dist-packages (from requests->streamlit) (1.24.3)\n",
            "Requirement already satisfied: certifi>=2017.4.17 in /usr/local/lib/python3.7/dist-packages (from requests->streamlit) (2021.10.8)\n",
            "Building wheels for collected packages: blinker\n",
            "  Building wheel for blinker (setup.py) ... \u001b[?25l\u001b[?25hdone\n",
            "  Created wheel for blinker: filename=blinker-1.4-py3-none-any.whl size=13478 sha256=b549ed22d790b0384a1315c4fd78e365a02532499d1c8950767c6abe610f68be\n",
            "  Stored in directory: /root/.cache/pip/wheels/22/f5/18/df711b66eb25b21325c132757d4314db9ac5e8dabeaf196eab\n",
            "Successfully built blinker\n",
            "Installing collected packages: prompt-toolkit, ipython, ipykernel, smmap, gitdb, watchdog, validators, toml, pympler, pydeck, gitpython, blinker, base58, streamlit\n",
            "  Attempting uninstall: prompt-toolkit\n",
            "    Found existing installation: prompt-toolkit 1.0.18\n",
            "    Uninstalling prompt-toolkit-1.0.18:\n",
            "      Successfully uninstalled prompt-toolkit-1.0.18\n",
            "  Attempting uninstall: ipython\n",
            "    Found existing installation: ipython 5.5.0\n",
            "    Uninstalling ipython-5.5.0:\n",
            "      Successfully uninstalled ipython-5.5.0\n",
            "  Attempting uninstall: ipykernel\n",
            "    Found existing installation: ipykernel 4.10.1\n",
            "    Uninstalling ipykernel-4.10.1:\n",
            "      Successfully uninstalled ipykernel-4.10.1\n",
            "\u001b[31mERROR: pip's dependency resolver does not currently take into account all the packages that are installed. This behaviour is the source of the following dependency conflicts.\n",
            "jupyter-console 5.2.0 requires prompt-toolkit<2.0.0,>=1.0.0, but you have prompt-toolkit 3.0.28 which is incompatible.\n",
            "google-colab 1.0.0 requires ipykernel~=4.10, but you have ipykernel 6.9.1 which is incompatible.\n",
            "google-colab 1.0.0 requires ipython~=5.5.0, but you have ipython 7.32.0 which is incompatible.\u001b[0m\n",
            "Successfully installed base58-2.1.1 blinker-1.4 gitdb-4.0.9 gitpython-3.1.27 ipykernel-6.9.1 ipython-7.32.0 prompt-toolkit-3.0.28 pydeck-0.7.1 pympler-1.0.1 smmap-5.0.0 streamlit-1.7.0 toml-0.10.2 validators-0.18.2 watchdog-2.1.6\n"
          ]
        },
        {
          "output_type": "display_data",
          "data": {
            "application/vnd.colab-display-data+json": {
              "pip_warning": {
                "packages": [
                  "IPython",
                  "ipykernel",
                  "prompt_toolkit"
                ]
              }
            }
          },
          "metadata": {}
        }
      ],
      "source": [
        "!pip install streamlit"
      ]
    },
    {
      "cell_type": "code",
      "source": [
        "!wget https://bin.equinox.io/c/4VmDzA7iaHb/ngrok-stable-linux-amd64.zip"
      ],
      "metadata": {
        "colab": {
          "base_uri": "https://localhost:8080/"
        },
        "id": "Gj-z4umxdkri",
        "outputId": "f05bdef5-2d20-43d2-caad-933728222401"
      },
      "execution_count": null,
      "outputs": [
        {
          "output_type": "stream",
          "name": "stdout",
          "text": [
            "--2022-03-10 20:21:12--  https://bin.equinox.io/c/4VmDzA7iaHb/ngrok-stable-linux-amd64.zip\n",
            "Resolving bin.equinox.io (bin.equinox.io)... 52.202.168.65, 54.161.241.46, 54.237.133.81, ...\n",
            "Connecting to bin.equinox.io (bin.equinox.io)|52.202.168.65|:443... connected.\n",
            "HTTP request sent, awaiting response... 200 OK\n",
            "Length: 13832437 (13M) [application/octet-stream]\n",
            "Saving to: ‘ngrok-stable-linux-amd64.zip’\n",
            "\n",
            "ngrok-stable-linux- 100%[===================>]  13.19M  41.9MB/s    in 0.3s    \n",
            "\n",
            "2022-03-10 20:21:12 (41.9 MB/s) - ‘ngrok-stable-linux-amd64.zip’ saved [13832437/13832437]\n",
            "\n"
          ]
        }
      ]
    },
    {
      "cell_type": "code",
      "source": [
        "!unzip ngrok-stable-linux-amd64.zip"
      ],
      "metadata": {
        "colab": {
          "base_uri": "https://localhost:8080/"
        },
        "id": "-n3vLnG9d98C",
        "outputId": "94f9f65c-442f-4eca-f516-c76c8b861587"
      },
      "execution_count": null,
      "outputs": [
        {
          "output_type": "stream",
          "name": "stdout",
          "text": [
            "Archive:  ngrok-stable-linux-amd64.zip\n",
            "  inflating: ngrok                   \n"
          ]
        }
      ]
    },
    {
      "cell_type": "code",
      "source": [
        "get_ipython().system_raw('./ngrok authtoken 25weHPzRIm8EBYAIHI5zUF2erql_7vAeobXYD7PWtpPB6xrPp')"
      ],
      "metadata": {
        "colab": {
          "base_uri": "https://localhost:8080/"
        },
        "id": "6bCkFcRLeDCi",
        "outputId": "2e9dd421-d89a-4845-ed30-fe940630cfd8"
      },
      "execution_count": null,
      "outputs": [
        {
          "output_type": "stream",
          "name": "stdout",
          "text": [
            "Authtoken saved to configuration file: /root/.ngrok2/ngrok.yml\n"
          ]
        }
      ]
    },
    {
      "cell_type": "code",
      "source": [
        "get_ipython().system_raw('./ngrok http 8501 &')"
      ],
      "metadata": {
        "id": "VfVjRO5QeF--"
      },
      "execution_count": null,
      "outputs": []
    },
    {
      "cell_type": "code",
      "source": [
        "!curl -s http://localhost:4040/api/tunnels | python3 -c \\\n",
        "    'import sys, json; print(\"Execute the next cell and the go to the following URL: \" +json.load(sys.stdin)[\"tunnels\"][0][\"public_url\"])'"
      ],
      "metadata": {
        "colab": {
          "base_uri": "https://localhost:8080/"
        },
        "id": "cOlpTp8GeKDq",
        "outputId": "5d37b2ec-a362-418d-a31a-2a62aa49e18d"
      },
      "execution_count": null,
      "outputs": [
        {
          "output_type": "stream",
          "name": "stdout",
          "text": [
            "Execute the next cell and the go to the following URL: https://0ff1-34-74-239-100.ngrok.io\n"
          ]
        }
      ]
    },
    {
      "cell_type": "code",
      "source": [
        "%%writefile employees.py\n",
        "import pandas as pd\n",
        "import numpy as np\n",
        "import streamlit as st\n",
        "import matplotlib.pyplot as plt\n",
        "import re\n",
        "\n",
        "st.title('Empleados')\n",
        "st.header (\"Análisis de deserción de empleados\")\n",
        "\n",
        "st.write (\"\"\"\n",
        "Esta aplicación analiza la deserción de empleados de una empresa\n",
        "\"\"\")\n",
        "\n",
        "\n",
        "sidebar = st.sidebar\n",
        "sidebar.title(\"MENU\")\n",
        "\n",
        "\n",
        "DATA_URL = ('/content/Employees.csv')\n",
        "\n",
        "@st.cache\n",
        "def load_data(nrows):\n",
        "    data = pd.read_csv(DATA_URL, nrows=nrows, encoding_errors='ignore')\n",
        "    return data\n",
        "data = load_data(500)\n",
        "\n",
        "#Cargar datos checkbox\n",
        "agree = sidebar.checkbox(\"Mostrar todos los datos \",key =\"Dataframe\")\n",
        "if agree:\n",
        "  data_load_state = st.text('Cargando...')\n",
        "  data = load_data(500)\n",
        "  \n",
        "  data_load_state.text(\"Cargado (usando st.cache)\")\n",
        "  st.dataframe(data)\n",
        "  \n",
        "sidebar.markdown(\"___\")\n",
        "\n",
        "#employees_ID hometown o unit\n",
        "@st.cache\n",
        "def load_data_byEmployeesID(id):\n",
        "  \n",
        "  filtered_data_byname = data[data['Employee_ID'].str.contains(id,flags=re.IGNORECASE)]\n",
        "  \n",
        "  return filtered_data_byname\n",
        "\n",
        "@st.cache\n",
        "def load_data_byHometown(hometown):\n",
        "  \n",
        "  filtered_data_byname = data[data['Hometown'].str.contains(hometown,flags=re.IGNORECASE)]\n",
        "  \n",
        "  return filtered_data_byname\n",
        "\n",
        "@st.cache\n",
        "def load_data_byUnit(unit):\n",
        "  \n",
        "  filtered_data_byname = data[data['Unit'].str.contains(unit, flags=re.IGNORECASE)]\n",
        "  return filtered_data_byname\n",
        "\n",
        "inputUser = st.sidebar.text_input('id o ciudad o el trabajo: ')\n",
        "btnFilteredID = sidebar.button('Buscar por ID')\n",
        "btnFilteredHometown = sidebar.button('Buscar por Ciudad natal')\n",
        "btnFilteredUnit = sidebar.button('Buscar por Trabajo')\n",
        "\n",
        "if (btnFilteredID):\n",
        "  st.write (\"ID buscado: \"+ inputUser)\n",
        "  filterbyname = load_data_byEmployeesID(inputUser)\n",
        "  count_row = filterbyname.shape[0]\n",
        "  st.write(f'Total: {count_row}')\n",
        "\n",
        "  st.dataframe(filterbyname)\n",
        "\n",
        "if (btnFilteredHometown):\n",
        "  st.write (\"Ciudad buscada: \"+ inputUser)\n",
        "  filterbyname = load_data_byHometown(inputUser)\n",
        "  count_row = filterbyname.shape[0]\n",
        "  st.write(f'Total: {count_row}')\n",
        "\n",
        "  st.dataframe(filterbyname)\n",
        "\n",
        "if (btnFilteredUnit):\n",
        "  st.write (\"Trabajo buscado: \"+ inputUser)\n",
        "  filterbyname = load_data_byUnit(inputUser)\n",
        "  count_row = filterbyname.shape[0]\n",
        "  st.write(f'Total: {count_row}')\n",
        "\n",
        "  st.dataframe(filterbyname)\n",
        "\n",
        "sidebar.markdown(\"___\")\n",
        "\n",
        "#nivel educatico por selectBox\n",
        "@st.cache\n",
        "def load_data_bydire(level):\n",
        "  filtered_data_byLevel = data[data['Education_Level'] == level]\n",
        "  return filtered_data_byLevel\n",
        "\n",
        "selected = sidebar.selectbox(\"Selecciona el Nivel educativo\", data['Education_Level'].unique())\n",
        "btnFilterByLevel = sidebar.button('Filtrar por Nivel educativo')\n",
        "\n",
        "if (btnFilterByLevel): \n",
        "  st.write(\"Empleados con nivel educativo \"+ str(selected))\n",
        "  filterbylevel = load_data_bydire(selected)\n",
        "  count_row = filterbylevel.shape[0]\n",
        "  st.write(f'Total: {count_row}')\n",
        "\n",
        "  st.dataframe(filterbylevel)\n",
        "sidebar.markdown(\"___\")\n",
        "\n",
        "#Ciudad natal por selectBox\n",
        "@st.cache\n",
        "def load_data_byhome(home):\n",
        "  filtered_data_byHome = data[data['Hometown'] == home]\n",
        "  return filtered_data_byHome\n",
        "\n",
        "selectedHome = sidebar.selectbox(\"Selecciona la ciudad natal\", data['Hometown'].unique())\n",
        "btnFilterByHometown = sidebar.button('Filtrar por Ciudad')\n",
        "\n",
        "if (btnFilterByHometown): \n",
        "  st.write(\"Empleados con Ciudad natal \"+ str(selectedHome))\n",
        "  filterbyhome = load_data_byhome(selectedHome)\n",
        "  count_row = filterbyhome.shape[0]\n",
        "  st.write(f'Total: {count_row}')\n",
        "\n",
        "  st.dataframe(filterbyhome)\n",
        "sidebar.markdown(\"___\")\n",
        "\n",
        "#Tipo de trabajo por selectBox\n",
        "@st.cache\n",
        "def load_data_byUnit(unit):\n",
        "  filtered_data_byunit = data[data['Unit'] == unit]\n",
        "  return filtered_data_byunit\n",
        "\n",
        "selectedUnit = sidebar.selectbox(\"Selecciona el trabajo\", data['Unit'].unique())\n",
        "btnFilterByUnit = sidebar.button('Filtrar por Trabajo')\n",
        "\n",
        "if (btnFilterByUnit): \n",
        "  st.write(\"Empleados con el trabajo \"+ str(selectedUnit))\n",
        "  filterbyunit = load_data_byUnit(selectedUnit)\n",
        "  count_row = filterbyunit.shape[0]\n",
        "  st.write(f'Total: {count_row}')\n",
        "\n",
        "  st.dataframe(filterbyunit)\n",
        "sidebar.markdown(\"___\")\n",
        "\n",
        "sidebar.subheader(\"Graficas\")\n",
        "# histograma edades \n",
        "agreeHis = sidebar.checkbox(\"Histograma de edades \",key = \"edades\")\n",
        "if agreeHis:\n",
        "  fig, ax = plt.subplots()\n",
        "\n",
        "  ax.hist(data['Age'], rwidth=0.85)\n",
        "  ax.set_xlabel(\"Edad\")\n",
        "  ax.set_ylabel(\"Numero de empleados\")\n",
        "  st.header(\"Histograma de empleados por edad\")\n",
        "\n",
        "  st.pyplot(fig)\n",
        "\n",
        "  st.markdown(\"___\")\n",
        "\n",
        "# frecuencia  \n",
        "agreeFrecuency = sidebar.checkbox(\"Frecuencia por trabajo \",key = \"frecuencia\")\n",
        "if agreeFrecuency:\n",
        "  fig, ax = plt.subplots()\n",
        "\n",
        "  ax.hist(data['Unit'], rwidth=0.85)\n",
        "  ax.set_xlabel(\"Trabajo\")\n",
        "  ax.set_ylabel(\"Numero de empleados\")\n",
        "  st.header(\"Frecuencia de Empleados por Trabajo \")\n",
        "  plt.setp(ax.get_xticklabels(), rotation=45, ha='right')\n",
        "  st.pyplot(fig)\n",
        "  \n",
        "  st.markdown(\"___\")\n",
        "\n",
        "# indice de desercion por ciudad\n",
        "agreeDesercion = sidebar.checkbox(\"Indice de deserción por ciudad \",key = \"desercion\")\n",
        "if agreeDesercion:\n",
        "  fig, ax = plt.subplots()\n",
        "\n",
        "  y_pos = data['Attrition_rate']\n",
        "  x_pos = data['Hometown']\n",
        "\n",
        "  ax.bar(x_pos, y_pos)\n",
        "  ax.set_ylabel(\"Desercion\")\n",
        "  ax.set_xlabel(\"Ciudad natal\")\n",
        "  ax.set_title('¿Cuantos empleados desertaron por ciudad?')\n",
        "\n",
        "  st.header(\"Indice de deserción por ciudad\")\n",
        "\n",
        "  st.pyplot(fig)\n",
        "\n",
        "  st.markdown(\"___\")\n",
        "\n",
        "# indice de desercion por edad\n",
        "\n",
        "agreeEdad = sidebar.checkbox(\"Indice de deserción por edad \", key = \"desEdad\")\n",
        "if agreeEdad:\n",
        "  fig, ax = plt.subplots()\n",
        "\n",
        "  y_pos = data['Attrition_rate']\n",
        "  x_pos = data['Age']\n",
        "\n",
        "  ax.barh(x_pos, y_pos)\n",
        "  ax.set_xlabel(\"Desercion\")\n",
        "  ax.set_ylabel(\"Edad\")\n",
        "  ax.set_title('¿Cuantos empleados desertaron por edad?')\n",
        "\n",
        "  st.header(\"Indice de deserción por edad\")\n",
        "\n",
        "  st.pyplot(fig)\n",
        "\n",
        "  st.markdown(\"___\")\n",
        "\n",
        "# indice de desercion por tiempo de servicio\n",
        "\n",
        "agreeService = sidebar.checkbox(\"Indice de deserción por Tiempo de servicio \",key = \"service\")\n",
        "if agreeService:\n",
        "  fig, ax = plt.subplots()\n",
        "\n",
        "  y_pos = data['Attrition_rate']\n",
        "  x_pos = data['Time_of_service']\n",
        "\n",
        "  ax.bar(x_pos, y_pos)\n",
        "  ax.set_ylabel(\"Desercion\")\n",
        "  ax.set_xlabel(\"Tiempo de servicio\")\n",
        "  ax.set_title('¿Cuantos empleados desertaron por tiempo de servicio?')\n",
        "\n",
        "  st.header(\"Indice de deserción por tiempo de servicio\")\n",
        "\n",
        "  st.pyplot(fig)\n",
        "\n",
        "  st.markdown(\"___\")"
      ],
      "metadata": {
        "colab": {
          "base_uri": "https://localhost:8080/"
        },
        "id": "jGToZ2eEfdrD",
        "outputId": "19a30161-14b8-45ff-dfb1-e240e11e5107"
      },
      "execution_count": null,
      "outputs": [
        {
          "output_type": "stream",
          "name": "stdout",
          "text": [
            "Overwriting employees.py\n"
          ]
        }
      ]
    },
    {
      "cell_type": "code",
      "source": [
        "!streamlit run /content/employees.py"
      ],
      "metadata": {
        "colab": {
          "base_uri": "https://localhost:8080/"
        },
        "id": "MYsj5k1_fpHR",
        "outputId": "b7f56967-2175-4b13-b82f-ec2b89658b38"
      },
      "execution_count": null,
      "outputs": [
        {
          "metadata": {
            "tags": null
          },
          "name": "stdout",
          "output_type": "stream",
          "text": [
            "2022-03-10 20:29:56.947 INFO    numexpr.utils: NumExpr defaulting to 2 threads.\n",
            "\u001b[0m\n",
            "\u001b[34m\u001b[1m  You can now view your Streamlit app in your browser.\u001b[0m\n",
            "\u001b[0m\n",
            "\u001b[34m  Network URL: \u001b[0m\u001b[1mhttp://172.28.0.2:8501\u001b[0m\n",
            "\u001b[34m  External URL: \u001b[0m\u001b[1mhttp://34.74.239.100:8501\u001b[0m\n",
            "\u001b[0m\n"
          ]
        }
      ]
    }
  ]
}